{
 "cells": [
  {
   "cell_type": "code",
   "execution_count": 1,
   "id": "cLRpuyHXVuGO",
   "metadata": {
    "colab": {
     "base_uri": "https://localhost:8080/"
    },
    "id": "cLRpuyHXVuGO",
    "outputId": "432fc9c0-e9bf-42e4-dee5-8715b81c5a24"
   },
   "outputs": [
    {
     "data": {
      "text/plain": [
       "'!pip install tiktoken\\n!pip install torch\\n!pip install tqdm\\n!pip install tensorflow'"
      ]
     },
     "execution_count": 1,
     "metadata": {},
     "output_type": "execute_result"
    }
   ],
   "source": [
    "\"\"\"!pip install tiktoken\n",
    "!pip install torch\n",
    "!pip install tqdm\n",
    "!pip install tensorflow\"\"\""
   ]
  },
  {
   "cell_type": "code",
   "execution_count": 2,
   "id": "1541da1d",
   "metadata": {
    "colab": {
     "base_uri": "https://localhost:8080/"
    },
    "id": "1541da1d",
    "outputId": "53db0be9-525b-4205-9364-e6fffc8b45ea"
   },
   "outputs": [
    {
     "name": "stdout",
     "output_type": "stream",
     "text": [
      "matplotlib version: 3.5.1\n",
      "tiktoken version: 0.7.0\n",
      "torch version: 1.12.1\n",
      "tqdm version: 4.66.4\n",
      "tensorflow version: 2.16.2\n"
     ]
    }
   ],
   "source": [
    "from importlib.metadata import version\n",
    "\n",
    "pkgs = [\n",
    "    \"matplotlib\",  # Plotting library\n",
    "    \"tiktoken\",    # Tokenizer\n",
    "    \"torch\",       # Deep learning library\n",
    "    \"tqdm\",        # Progress bar\n",
    "    \"tensorflow\",  # For OpenAI's pretrained weights\n",
    "]\n",
    "for p in pkgs:\n",
    "    print(f\"{p} version: {version(p)}\")"
   ]
  },
  {
   "cell_type": "markdown",
   "id": "9c0d40e0",
   "metadata": {
    "id": "9c0d40e0"
   },
   "source": [
    "### LLM involves a training procedure where it learns to generate one word at a time. A pretrained LLM is good at text completion, but it is not good at following instructions. Lets tach LLM to follow instructions better"
   ]
  },
  {
   "cell_type": "code",
   "execution_count": 3,
   "id": "89fff709",
   "metadata": {
    "colab": {
     "base_uri": "https://localhost:8080/"
    },
    "id": "89fff709",
    "outputId": "eb64252f-4f29-4756-a221-8e0fe34bc8ce"
   },
   "outputs": [
    {
     "name": "stdout",
     "output_type": "stream",
     "text": [
      "Number of entries: 1100\n"
     ]
    }
   ],
   "source": [
    "import os\n",
    "import json\n",
    "import urllib\n",
    "\n",
    "def download_and_load_file(file_path):\n",
    "\n",
    "    if not os.path.exists(file_path):\n",
    "        with urllib.request.urlopen(url) as response:\n",
    "            text_data = response.read().decode(\"utf-8\")\n",
    "        with open(file_path, \"w\", encoding=\"utf-8\") as file:\n",
    "            file.write(text_data)\n",
    "    else:\n",
    "        with open(file_path, \"r\", encoding=\"utf-8\") as file:\n",
    "            text_data = file.read()\n",
    "\n",
    "    with open(file_path, \"r\") as file:\n",
    "        data = json.load(file)\n",
    "\n",
    "    return data\n",
    "\n",
    "file_path = \"instruction-data.json\"\n",
    "\n",
    "data = download_and_load_file(file_path)\n",
    "print(\"Number of entries:\", len(data))"
   ]
  },
  {
   "cell_type": "code",
   "execution_count": 4,
   "id": "f437f14c",
   "metadata": {
    "colab": {
     "base_uri": "https://localhost:8080/"
    },
    "id": "f437f14c",
    "outputId": "515fb9f1-fccc-4a15-aab1-c0a824217299"
   },
   "outputs": [
    {
     "name": "stdout",
     "output_type": "stream",
     "text": [
      "Example :\n",
      " {'instruction': 'What is the contraction for \"will not\"?', 'input': '', 'output': 'The contraction for \"will not\" is \"won\\'t\".'}\n"
     ]
    }
   ],
   "source": [
    "print(\"Example :\\n\", data[10])"
   ]
  },
  {
   "cell_type": "code",
   "execution_count": 5,
   "id": "a225eb9c",
   "metadata": {
    "id": "a225eb9c"
   },
   "outputs": [],
   "source": [
    "def format_input(entry):\n",
    "    instruction_text = (\n",
    "        f\"Below is an instruction that describes a task. \"\n",
    "        f\"Write a response that appropriately completes the request.\"\n",
    "        f\"\\n\\n--------- Instruction ----------------------------------------\\n{entry['instruction']} \\n--------------------------------------------------------------\"\n",
    "    )\n",
    "\n",
    "    input_text = f\"\\n\\nInput: {entry['input']}\" if entry[\"input\"] else \"\"\n",
    "\n",
    "    return instruction_text + input_text"
   ]
  },
  {
   "cell_type": "code",
   "execution_count": 6,
   "id": "d0b4daea",
   "metadata": {
    "colab": {
     "base_uri": "https://localhost:8080/"
    },
    "id": "d0b4daea",
    "outputId": "f570095e-38ad-47ec-ed6d-1862089f8e6d"
   },
   "outputs": [
    {
     "name": "stdout",
     "output_type": "stream",
     "text": [
      "Below is an instruction that describes a task. Write a response that appropriately completes the request.\n",
      "\n",
      "--------- Instruction ----------------------------------------\n",
      "Identify the correct spelling of the following word. \n",
      "--------------------------------------------------------------\n",
      "\n",
      "Input: Ocassion\n",
      "\n",
      "Response: The correct spelling is 'Occasion.'\n"
     ]
    }
   ],
   "source": [
    "model_input = format_input(data[50])\n",
    "desired_response = f\"\\n\\nResponse: {data[50]['output']}\"\n",
    "\n",
    "print(model_input + desired_response)"
   ]
  },
  {
   "cell_type": "code",
   "execution_count": 7,
   "id": "e0b5c6ba",
   "metadata": {
    "colab": {
     "base_uri": "https://localhost:8080/"
    },
    "id": "e0b5c6ba",
    "outputId": "d716f2e9-f059-428e-e91d-60d8ef4a5588"
   },
   "outputs": [
    {
     "name": "stdout",
     "output_type": "stream",
     "text": [
      "Training set length: 935\n",
      "Validation set length: 55\n",
      "Test set length: 110\n"
     ]
    }
   ],
   "source": [
    "train_portion = int(len(data) * 0.85)  # 85% for training\n",
    "test_portion = int(len(data) * 0.1)    # 10% for testing\n",
    "val_portion = len(data) - train_portion - test_portion  # Remaining 5% for validation\n",
    "\n",
    "train_data = data[:train_portion]\n",
    "test_data = data[train_portion:train_portion + test_portion]\n",
    "val_data = data[train_portion + test_portion:]\n",
    "\n",
    "print(\"Training set length:\", len(train_data))\n",
    "print(\"Validation set length:\", len(val_data))\n",
    "print(\"Test set length:\", len(test_data))"
   ]
  },
  {
   "cell_type": "code",
   "execution_count": 8,
   "id": "03f10def",
   "metadata": {
    "id": "03f10def"
   },
   "outputs": [],
   "source": [
    "import torch\n",
    "from torch.utils.data import Dataset\n",
    "\n",
    "\n",
    "class InstructionDataset(Dataset):\n",
    "    def __init__(self, data, tokenizer):\n",
    "        self.data = data\n",
    "\n",
    "        # Pre-tokenize texts\n",
    "        self.encoded_texts = []\n",
    "        for entry in data:\n",
    "            instruction_plus_input = format_input(entry)\n",
    "            response_text = f\"\\n\\n### Response:\\n{entry['output']}\"\n",
    "            full_text = instruction_plus_input + response_text\n",
    "            self.encoded_texts.append(\n",
    "                tokenizer.encode(full_text)\n",
    "            )\n",
    "\n",
    "    def __getitem__(self, index):\n",
    "        return self.encoded_texts[index]\n",
    "\n",
    "    def __len__(self):\n",
    "        return len(self.data)"
   ]
  },
  {
   "cell_type": "code",
   "execution_count": 9,
   "id": "2cbe2dad",
   "metadata": {
    "colab": {
     "base_uri": "https://localhost:8080/"
    },
    "id": "2cbe2dad",
    "outputId": "749e7b89-d7b1-480d-9f96-46b5c9379b0e"
   },
   "outputs": [
    {
     "name": "stdout",
     "output_type": "stream",
     "text": [
      "[50256]\n"
     ]
    }
   ],
   "source": [
    "import tiktoken\n",
    "tokenizer = tiktoken.get_encoding(\"gpt2\")\n",
    "\n",
    "print(tokenizer.encode(\"<|endoftext|>\", allowed_special={\"<|endoftext|>\"}))"
   ]
  },
  {
   "cell_type": "markdown",
   "id": "59275c2e",
   "metadata": {
    "id": "59275c2e"
   },
   "source": [
    " To accelerate training, we collect multiple examples in a batch and pad all inputs to a uniform length. We use a custom \"collate\" function for the data loader to pad training examples in each batch to the same length, allowing different batches to have different lengths."
   ]
  },
  {
   "cell_type": "code",
   "execution_count": 10,
   "id": "ec2b8368",
   "metadata": {
    "id": "ec2b8368"
   },
   "outputs": [],
   "source": [
    "def custom_collate_draft_1(\n",
    "    batch,\n",
    "    pad_token_id=50256,\n",
    "    device=\"cpu\"\n",
    "):\n",
    "    # Determine the maximum sequence length in the batch, accounting for the added token\n",
    "    max_length = max(len(sequence) + 1 for sequence in batch)\n",
    "\n",
    "    # Initialize a list to hold padded sequences\n",
    "    padded_sequences = []\n",
    "\n",
    "    for sequence in batch:\n",
    "        # Copy the sequence and append the padding token\n",
    "        sequence_with_pad = sequence.copy()\n",
    "        # Add an <|endoftext|> token\n",
    "        sequence_with_pad.append(pad_token_id)\n",
    "\n",
    "        # Pad the sequence to the maximum length which always adds at least 1 additional padding tokens\n",
    "        padding = [pad_token_id] * (max_length - len(sequence_with_pad))\n",
    "        padded_sequence = sequence_with_pad + padding\n",
    "\n",
    "        # Remove the extra padding token and convert to a tensor\n",
    "        sequence_tensor = torch.tensor(padded_sequence[:-1])\n",
    "        padded_sequences.append(sequence_tensor)\n",
    "\n",
    "    # Stack the tensors and move to the specified device\n",
    "    batch_tensor = torch.stack(padded_sequences).to(device)\n",
    "    return batch_tensor\n"
   ]
  },
  {
   "cell_type": "code",
   "execution_count": 11,
   "id": "ecf4740a",
   "metadata": {
    "colab": {
     "base_uri": "https://localhost:8080/"
    },
    "id": "ecf4740a",
    "outputId": "4b1ce2fb-3e0d-4136-d721-9354c63175bf"
   },
   "outputs": [
    {
     "name": "stdout",
     "output_type": "stream",
     "text": [
      "tensor([[    0,     1,     2,     3,     4],\n",
      "        [    5,     6, 50256, 50256, 50256],\n",
      "        [    7,     8,     9, 50256, 50256]])\n"
     ]
    }
   ],
   "source": [
    "inputs_1 = [0, 1, 2, 3, 4]\n",
    "inputs_2 = [5, 6]\n",
    "inputs_3 = [7, 8, 9]\n",
    "\n",
    "batch = (\n",
    "    inputs_1,\n",
    "    inputs_2,\n",
    "    inputs_3\n",
    ")\n",
    "\n",
    "print(custom_collate_draft_1(batch))"
   ]
  },
  {
   "cell_type": "markdown",
   "id": "8cdc0d72",
   "metadata": {
    "id": "8cdc0d72"
   },
   "source": [
    "We returned only the inputs for the LLM, but for training, we also need the target values. In LLM training, the targets are the inputs shifted by one position to the right, allowing the LLM to learn to predict the next token."
   ]
  },
  {
   "cell_type": "code",
   "execution_count": 12,
   "id": "b008b4ab",
   "metadata": {
    "id": "b008b4ab"
   },
   "outputs": [],
   "source": [
    "def custom_collate_draft_2(\n",
    "    batch,\n",
    "    pad_token_id=50256,\n",
    "    device=\"cpu\"\n",
    "):\n",
    "    # Determine the maximum sequence length in the batch, accounting for the added padding token\n",
    "    max_length = max(len(sequence) + 1 for sequence in batch)\n",
    "\n",
    "    # Initialize lists to hold padded inputs and targets\n",
    "    padded_inputs, padded_targets = [], []\n",
    "\n",
    "    for sequence in batch:\n",
    "        # Copy the sequence and append the padding token\n",
    "        sequence_with_pad = sequence.copy()\n",
    "        sequence_with_pad.append(pad_token_id)\n",
    "\n",
    "        # Pad the sequence to the maximum length which always adds at least 1 additional padding token\n",
    "        padding = [pad_token_id] * (max_length - len(sequence_with_pad))\n",
    "        padded_sequence = sequence_with_pad + padding\n",
    "\n",
    "        # Create input and target tensors\n",
    "        input_tensor = torch.tensor(padded_sequence[:-1])  # Exclude the last token for inputs\n",
    "        target_tensor = torch.tensor(padded_sequence[1:])  # Shift one position to the right for targets\n",
    "\n",
    "        # Append the tensors to their respective lists\n",
    "        padded_inputs.append(input_tensor)\n",
    "        padded_targets.append(target_tensor)\n",
    "\n",
    "    # Stack the input and target tensors and move them to the specified device\n",
    "    inputs_tensor = torch.stack(padded_inputs).to(device)\n",
    "    targets_tensor = torch.stack(padded_targets).to(device)\n",
    "\n",
    "    return inputs_tensor, targets_tensor\n"
   ]
  },
  {
   "cell_type": "code",
   "execution_count": 13,
   "id": "48d00696",
   "metadata": {
    "colab": {
     "base_uri": "https://localhost:8080/"
    },
    "id": "48d00696",
    "outputId": "63fc3263-dca6-4004-a651-0a333f3d6152"
   },
   "outputs": [
    {
     "name": "stdout",
     "output_type": "stream",
     "text": [
      "tensor([[    0,     1,     2,     3,     4],\n",
      "        [    5,     6, 50256, 50256, 50256],\n",
      "        [    7,     8,     9, 50256, 50256]])\n",
      "tensor([[    1,     2,     3,     4, 50256],\n",
      "        [    6, 50256, 50256, 50256, 50256],\n",
      "        [    8,     9, 50256, 50256, 50256]])\n"
     ]
    }
   ],
   "source": [
    "inputs, targets = custom_collate_draft_2(batch)\n",
    "print(inputs)\n",
    "print(targets)"
   ]
  },
  {
   "cell_type": "markdown",
   "id": "7731a261",
   "metadata": {
    "id": "7731a261"
   },
   "source": [
    "Next, we introduce an ignore_index value to replace all padding token IDs with a new value; the purpose of this ignore_index is that we can ignore padding values in the loss function\n",
    "\n",
    "In addition, we also introduce the allowed_max_length in case we want to limit the length of the samples; this will be useful if you plan to work with your own datasets that are longer than the 1024 token context size supported by the GPT-2 model"
   ]
  },
  {
   "cell_type": "code",
   "execution_count": 14,
   "id": "819e9531",
   "metadata": {
    "id": "819e9531"
   },
   "outputs": [],
   "source": [
    "def custom_collate_fn(\n",
    "    batch,\n",
    "    pad_token_id=50256,\n",
    "    ignore_index=-100,\n",
    "    allowed_max_length=None,\n",
    "    device=\"cpu\"\n",
    "):\n",
    "    # Determine the maximum sequence length in the batch, accounting for the added token\n",
    "    max_length = max(len(sequence) + 1 for sequence in batch)\n",
    "\n",
    "    # Initialize lists to hold padded input sequences and target sequences\n",
    "    padded_inputs = []\n",
    "    padded_targets = []\n",
    "\n",
    "    for sequence in batch:\n",
    "        # Copy the sequence and append the padding token\n",
    "        sequence_with_pad = sequence.copy()\n",
    "        sequence_with_pad.append(pad_token_id)\n",
    "\n",
    "        # Pad the sequence to the maximum length which always adds at least 1 additional padding token\n",
    "        padding = [pad_token_id] * (max_length - len(sequence_with_pad))\n",
    "        padded_sequence = sequence_with_pad + padding\n",
    "\n",
    "        # Create input and target tensors\n",
    "        input_tensor = torch.tensor(padded_sequence[:-1])  # Exclude the last token for inputs\n",
    "        target_tensor = torch.tensor(padded_sequence[1:])  # Shift one position to the right for targets\n",
    "\n",
    "        # Replace all but the first padding tokens in targets with ignore_index\n",
    "        mask = target_tensor == pad_token_id\n",
    "        indices = torch.nonzero(mask).squeeze()\n",
    "        if indices.numel() > 1:\n",
    "            target_tensor[indices[1:]] = ignore_index\n",
    "\n",
    "        # Optionally truncate to the allowed maximum sequence length\n",
    "        if allowed_max_length is not None:\n",
    "            input_tensor = input_tensor[:allowed_max_length]\n",
    "            target_tensor = target_tensor[:allowed_max_length]\n",
    "\n",
    "        # Append the tensors to their respective lists\n",
    "        padded_inputs.append(input_tensor)\n",
    "        padded_targets.append(target_tensor)\n",
    "\n",
    "    # Stack the input and target tensors and move them to the specified device\n",
    "    inputs_tensor = torch.stack(padded_inputs).to(device)\n",
    "    targets_tensor = torch.stack(padded_targets).to(device)\n",
    "\n",
    "    return inputs_tensor, targets_tensor\n"
   ]
  },
  {
   "cell_type": "code",
   "execution_count": 15,
   "id": "ab2c4ed6",
   "metadata": {
    "colab": {
     "base_uri": "https://localhost:8080/"
    },
    "id": "ab2c4ed6",
    "outputId": "e3cd5245-4c08-4828-e4f5-1645f4ba95a6"
   },
   "outputs": [
    {
     "name": "stdout",
     "output_type": "stream",
     "text": [
      "tensor([[    0,     1,     2,     3,     4],\n",
      "        [    5,     6, 50256, 50256, 50256],\n",
      "        [    7,     8,     9, 50256, 50256]])\n",
      "tensor([[    1,     2,     3,     4, 50256],\n",
      "        [    6, 50256,  -100,  -100,  -100],\n",
      "        [    8,     9, 50256,  -100,  -100]])\n"
     ]
    }
   ],
   "source": [
    "inputs, targets = custom_collate_fn(batch)\n",
    "print(inputs)\n",
    "print(targets)"
   ]
  },
  {
   "cell_type": "code",
   "execution_count": 16,
   "id": "d6a4a9df",
   "metadata": {
    "colab": {
     "base_uri": "https://localhost:8080/"
    },
    "id": "d6a4a9df",
    "outputId": "17fd6102-5438-49ea-d9ef-e5261fdaa8c6"
   },
   "outputs": [
    {
     "name": "stdout",
     "output_type": "stream",
     "text": [
      "tensor(1.1269)\n"
     ]
    }
   ],
   "source": [
    "logits_1 = torch.tensor(\n",
    "    [[-1.0, 1.0],  # 1st training example\n",
    "     [-0.5, 1.5]]  # 2nd training example\n",
    ")\n",
    "targets_1 = torch.tensor([0, 1])\n",
    "\n",
    "\n",
    "loss_1 = torch.nn.functional.cross_entropy(logits_1, targets_1)\n",
    "print(loss_1)"
   ]
  },
  {
   "cell_type": "code",
   "execution_count": 17,
   "id": "f3d9a39e",
   "metadata": {
    "colab": {
     "base_uri": "https://localhost:8080/"
    },
    "id": "f3d9a39e",
    "outputId": "96bc138f-687d-4993-c388-1e5c3fa5461b"
   },
   "outputs": [
    {
     "name": "stdout",
     "output_type": "stream",
     "text": [
      "tensor(0.7936)\n"
     ]
    }
   ],
   "source": [
    "logits_2 = torch.tensor(\n",
    "    [[-1.0, 1.0],\n",
    "     [-0.5, 1.5],\n",
    "     [-0.5, 1.5]]  # New 3rd training example\n",
    ")\n",
    "targets_2 = torch.tensor([0, 1, 1])\n",
    "\n",
    "loss_2 = torch.nn.functional.cross_entropy(logits_2, targets_2)\n",
    "print(loss_2)"
   ]
  },
  {
   "cell_type": "code",
   "execution_count": 18,
   "id": "08359a1d",
   "metadata": {
    "colab": {
     "base_uri": "https://localhost:8080/"
    },
    "id": "08359a1d",
    "outputId": "7c1f1e0f-1b5d-48d3-ffd7-15ed18bdf3cf"
   },
   "outputs": [
    {
     "name": "stdout",
     "output_type": "stream",
     "text": [
      "tensor(1.1269)\n",
      "loss_1 == loss_3: tensor(True)\n"
     ]
    }
   ],
   "source": [
    "targets_3 = torch.tensor([0, 1, -100])\n",
    "\n",
    "loss_3 = torch.nn.functional.cross_entropy(logits_2, targets_3)\n",
    "print(loss_3)\n",
    "print(\"loss_1 == loss_3:\", loss_1 == loss_3)"
   ]
  },
  {
   "cell_type": "code",
   "execution_count": 19,
   "id": "b02c6ee7",
   "metadata": {
    "colab": {
     "base_uri": "https://localhost:8080/"
    },
    "id": "b02c6ee7",
    "outputId": "11af0baa-4790-4eb5-fac7-02e97f8e979b"
   },
   "outputs": [
    {
     "name": "stdout",
     "output_type": "stream",
     "text": [
      "Device: cpu\n"
     ]
    }
   ],
   "source": [
    "device = torch.device(\"cuda\" if torch.cuda.is_available() else \"cpu\")\n",
    "\n",
    "# If you have a Mac with Apple Silicon chip, you can uncomment the next lines of code\n",
    "# to train the model on the Mac's GPU cores. However, as of this writing, this results in\n",
    "# larger numerical deviations from the results shown in this chapter, because Apple Silicon\n",
    "# support in PyTorch is still experimental\n",
    "\n",
    "# if torch.backends.mps.is_available():\n",
    "#     device = torch.device(\"mps\")\n",
    "\n",
    "print(\"Device:\", device)"
   ]
  },
  {
   "cell_type": "code",
   "execution_count": 20,
   "id": "e7a62617",
   "metadata": {
    "id": "e7a62617"
   },
   "outputs": [],
   "source": [
    "from functools import partial\n",
    "\n",
    "customized_collate_fn = partial(custom_collate_fn, device=device, allowed_max_length=1024)"
   ]
  },
  {
   "cell_type": "code",
   "execution_count": 21,
   "id": "58682df7",
   "metadata": {
    "id": "58682df7"
   },
   "outputs": [],
   "source": [
    "from torch.utils.data import DataLoader\n",
    "\n",
    "\n",
    "num_workers = 0\n",
    "batch_size = 8\n",
    "\n",
    "torch.manual_seed(123)\n",
    "\n",
    "train_dataset = InstructionDataset(train_data, tokenizer)\n",
    "train_loader = DataLoader(\n",
    "    train_dataset,\n",
    "    batch_size=batch_size,\n",
    "    collate_fn=customized_collate_fn,\n",
    "    shuffle=True,\n",
    "    drop_last=True,\n",
    "    num_workers=num_workers\n",
    ")"
   ]
  },
  {
   "cell_type": "code",
   "execution_count": 22,
   "id": "5847c8ef",
   "metadata": {
    "id": "5847c8ef"
   },
   "outputs": [],
   "source": [
    "val_dataset = InstructionDataset(val_data, tokenizer)\n",
    "val_loader = DataLoader(\n",
    "    val_dataset,\n",
    "    batch_size=batch_size,\n",
    "    collate_fn=customized_collate_fn,\n",
    "    shuffle=False,\n",
    "    drop_last=False,\n",
    "    num_workers=num_workers\n",
    ")\n",
    "\n",
    "test_dataset = InstructionDataset(test_data, tokenizer)\n",
    "test_loader = DataLoader(\n",
    "    test_dataset,\n",
    "    batch_size=batch_size,\n",
    "    collate_fn=customized_collate_fn,\n",
    "    shuffle=False,\n",
    "    drop_last=False,\n",
    "    num_workers=num_workers\n",
    ")"
   ]
  },
  {
   "cell_type": "code",
   "execution_count": 23,
   "id": "af78f22d",
   "metadata": {
    "colab": {
     "base_uri": "https://localhost:8080/"
    },
    "id": "af78f22d",
    "outputId": "77f3ab2e-315e-487c-adaa-c2a5427f00cd"
   },
   "outputs": [
    {
     "name": "stdout",
     "output_type": "stream",
     "text": [
      "Train loader:\n",
      "torch.Size([8, 64]) torch.Size([8, 64])\n",
      "torch.Size([8, 81]) torch.Size([8, 81])\n",
      "torch.Size([8, 76]) torch.Size([8, 76])\n",
      "torch.Size([8, 71]) torch.Size([8, 71])\n",
      "torch.Size([8, 68]) torch.Size([8, 68])\n",
      "torch.Size([8, 77]) torch.Size([8, 77])\n",
      "torch.Size([8, 83]) torch.Size([8, 83])\n",
      "torch.Size([8, 70]) torch.Size([8, 70])\n",
      "torch.Size([8, 65]) torch.Size([8, 65])\n",
      "torch.Size([8, 78]) torch.Size([8, 78])\n",
      "torch.Size([8, 67]) torch.Size([8, 67])\n",
      "torch.Size([8, 71]) torch.Size([8, 71])\n",
      "torch.Size([8, 70]) torch.Size([8, 70])\n",
      "torch.Size([8, 82]) torch.Size([8, 82])\n",
      "torch.Size([8, 74]) torch.Size([8, 74])\n",
      "torch.Size([8, 84]) torch.Size([8, 84])\n",
      "torch.Size([8, 76]) torch.Size([8, 76])\n",
      "torch.Size([8, 69]) torch.Size([8, 69])\n",
      "torch.Size([8, 88]) torch.Size([8, 88])\n",
      "torch.Size([8, 71]) torch.Size([8, 71])\n",
      "torch.Size([8, 85]) torch.Size([8, 85])\n",
      "torch.Size([8, 76]) torch.Size([8, 76])\n",
      "torch.Size([8, 72]) torch.Size([8, 72])\n",
      "torch.Size([8, 68]) torch.Size([8, 68])\n",
      "torch.Size([8, 73]) torch.Size([8, 73])\n",
      "torch.Size([8, 65]) torch.Size([8, 65])\n",
      "torch.Size([8, 62]) torch.Size([8, 62])\n",
      "torch.Size([8, 72]) torch.Size([8, 72])\n",
      "torch.Size([8, 68]) torch.Size([8, 68])\n",
      "torch.Size([8, 70]) torch.Size([8, 70])\n",
      "torch.Size([8, 81]) torch.Size([8, 81])\n",
      "torch.Size([8, 69]) torch.Size([8, 69])\n",
      "torch.Size([8, 76]) torch.Size([8, 76])\n",
      "torch.Size([8, 94]) torch.Size([8, 94])\n",
      "torch.Size([8, 68]) torch.Size([8, 68])\n",
      "torch.Size([8, 67]) torch.Size([8, 67])\n",
      "torch.Size([8, 70]) torch.Size([8, 70])\n",
      "torch.Size([8, 71]) torch.Size([8, 71])\n",
      "torch.Size([8, 69]) torch.Size([8, 69])\n",
      "torch.Size([8, 68]) torch.Size([8, 68])\n",
      "torch.Size([8, 80]) torch.Size([8, 80])\n",
      "torch.Size([8, 94]) torch.Size([8, 94])\n",
      "torch.Size([8, 64]) torch.Size([8, 64])\n",
      "torch.Size([8, 93]) torch.Size([8, 93])\n",
      "torch.Size([8, 88]) torch.Size([8, 88])\n",
      "torch.Size([8, 86]) torch.Size([8, 86])\n",
      "torch.Size([8, 75]) torch.Size([8, 75])\n",
      "torch.Size([8, 68]) torch.Size([8, 68])\n",
      "torch.Size([8, 77]) torch.Size([8, 77])\n",
      "torch.Size([8, 81]) torch.Size([8, 81])\n",
      "torch.Size([8, 72]) torch.Size([8, 72])\n",
      "torch.Size([8, 77]) torch.Size([8, 77])\n",
      "torch.Size([8, 85]) torch.Size([8, 85])\n",
      "torch.Size([8, 72]) torch.Size([8, 72])\n",
      "torch.Size([8, 72]) torch.Size([8, 72])\n",
      "torch.Size([8, 64]) torch.Size([8, 64])\n",
      "torch.Size([8, 65]) torch.Size([8, 65])\n",
      "torch.Size([8, 69]) torch.Size([8, 69])\n",
      "torch.Size([8, 85]) torch.Size([8, 85])\n",
      "torch.Size([8, 76]) torch.Size([8, 76])\n",
      "torch.Size([8, 66]) torch.Size([8, 66])\n",
      "torch.Size([8, 63]) torch.Size([8, 63])\n",
      "torch.Size([8, 74]) torch.Size([8, 74])\n",
      "torch.Size([8, 70]) torch.Size([8, 70])\n",
      "torch.Size([8, 73]) torch.Size([8, 73])\n",
      "torch.Size([8, 68]) torch.Size([8, 68])\n",
      "torch.Size([8, 92]) torch.Size([8, 92])\n",
      "torch.Size([8, 73]) torch.Size([8, 73])\n",
      "torch.Size([8, 68]) torch.Size([8, 68])\n",
      "torch.Size([8, 73]) torch.Size([8, 73])\n",
      "torch.Size([8, 76]) torch.Size([8, 76])\n",
      "torch.Size([8, 71]) torch.Size([8, 71])\n",
      "torch.Size([8, 76]) torch.Size([8, 76])\n",
      "torch.Size([8, 64]) torch.Size([8, 64])\n",
      "torch.Size([8, 70]) torch.Size([8, 70])\n",
      "torch.Size([8, 72]) torch.Size([8, 72])\n",
      "torch.Size([8, 70]) torch.Size([8, 70])\n",
      "torch.Size([8, 67]) torch.Size([8, 67])\n",
      "torch.Size([8, 63]) torch.Size([8, 63])\n",
      "torch.Size([8, 75]) torch.Size([8, 75])\n",
      "torch.Size([8, 69]) torch.Size([8, 69])\n",
      "torch.Size([8, 73]) torch.Size([8, 73])\n",
      "torch.Size([8, 62]) torch.Size([8, 62])\n",
      "torch.Size([8, 77]) torch.Size([8, 77])\n",
      "torch.Size([8, 68]) torch.Size([8, 68])\n",
      "torch.Size([8, 73]) torch.Size([8, 73])\n",
      "torch.Size([8, 64]) torch.Size([8, 64])\n",
      "torch.Size([8, 79]) torch.Size([8, 79])\n",
      "torch.Size([8, 85]) torch.Size([8, 85])\n",
      "torch.Size([8, 73]) torch.Size([8, 73])\n",
      "torch.Size([8, 73]) torch.Size([8, 73])\n",
      "torch.Size([8, 94]) torch.Size([8, 94])\n",
      "torch.Size([8, 64]) torch.Size([8, 64])\n",
      "torch.Size([8, 69]) torch.Size([8, 69])\n",
      "torch.Size([8, 85]) torch.Size([8, 85])\n",
      "torch.Size([8, 86]) torch.Size([8, 86])\n",
      "torch.Size([8, 76]) torch.Size([8, 76])\n",
      "torch.Size([8, 85]) torch.Size([8, 85])\n",
      "torch.Size([8, 66]) torch.Size([8, 66])\n",
      "torch.Size([8, 88]) torch.Size([8, 88])\n",
      "torch.Size([8, 71]) torch.Size([8, 71])\n",
      "torch.Size([8, 70]) torch.Size([8, 70])\n",
      "torch.Size([8, 82]) torch.Size([8, 82])\n",
      "torch.Size([8, 96]) torch.Size([8, 96])\n",
      "torch.Size([8, 67]) torch.Size([8, 67])\n",
      "torch.Size([8, 66]) torch.Size([8, 66])\n",
      "torch.Size([8, 80]) torch.Size([8, 80])\n",
      "torch.Size([8, 67]) torch.Size([8, 67])\n",
      "torch.Size([8, 69]) torch.Size([8, 69])\n",
      "torch.Size([8, 81]) torch.Size([8, 81])\n",
      "torch.Size([8, 69]) torch.Size([8, 69])\n",
      "torch.Size([8, 67]) torch.Size([8, 67])\n",
      "torch.Size([8, 88]) torch.Size([8, 88])\n",
      "torch.Size([8, 69]) torch.Size([8, 69])\n",
      "torch.Size([8, 79]) torch.Size([8, 79])\n",
      "torch.Size([8, 72]) torch.Size([8, 72])\n"
     ]
    }
   ],
   "source": [
    "print(\"Train loader:\")\n",
    "for inputs, targets in train_loader:\n",
    "    print(inputs.shape, targets.shape)"
   ]
  },
  {
   "cell_type": "code",
   "execution_count": null,
   "id": "133cd1a2",
   "metadata": {
    "colab": {
     "base_uri": "https://localhost:8080/"
    },
    "id": "133cd1a2",
    "outputId": "2e91b91c-4884-40a3-b161-37706e33744b"
   },
   "outputs": [],
   "source": [
    "from gpt_model import GPTModel\n",
    "from load_weights import load_weights_into_gpt, download_and_load_gpt2\n",
    "\n",
    "\n",
    "BASE_CONFIG = {\n",
    "    \"vocab_size\": 50257,     # Vocabulary size\n",
    "    \"context_length\": 1024,  # Context length\n",
    "    \"drop_rate\": 0.0,        # Dropout rate\n",
    "    \"qkv_bias\": True         # Query-key-value bias\n",
    "}\n",
    "\n",
    "model_configs = {\n",
    "    \"gpt2-small (124M)\": {\"emb_dim\": 768, \"n_layers\": 12, \"n_heads\": 12},\n",
    "    \"gpt2-medium (355M)\": {\"emb_dim\": 1024, \"n_layers\": 24, \"n_heads\": 16},\n",
    "    \"gpt2-large (774M)\": {\"emb_dim\": 1280, \"n_layers\": 36, \"n_heads\": 20},\n",
    "    \"gpt2-xl (1558M)\": {\"emb_dim\": 1600, \"n_layers\": 48, \"n_heads\": 25},\n",
    "}\n",
    "\n",
    "CHOOSE_MODEL = \"gpt2-medium (355M)\"\n",
    "\n",
    "BASE_CONFIG.update(model_configs[CHOOSE_MODEL])\n",
    "\n",
    "model_size = CHOOSE_MODEL.split(\" \")[-1].lstrip(\"(\").rstrip(\")\")\n",
    "settings, params = download_and_load_gpt2(model_size=model_size, models_dir=\"gpt2\")\n",
    "\n",
    "model = GPTModel(BASE_CONFIG)\n",
    "load_weights_into_gpt(model, params)\n",
    "model.eval();"
   ]
  },
  {
   "cell_type": "code",
   "execution_count": 2,
   "id": "eac49679",
   "metadata": {
    "colab": {
     "base_uri": "https://localhost:8080/"
    },
    "id": "eac49679",
    "outputId": "06e30ac4-c3fd-4dec-b85a-d931b1af9f1f"
   },
   "outputs": [
    {
     "ename": "NameError",
     "evalue": "name 'torch' is not defined",
     "output_type": "error",
     "traceback": [
      "\u001b[0;31m---------------------------------------------------------------------------\u001b[0m",
      "\u001b[0;31mNameError\u001b[0m                                 Traceback (most recent call last)",
      "Input \u001b[0;32mIn [2]\u001b[0m, in \u001b[0;36m<cell line: 1>\u001b[0;34m()\u001b[0m\n\u001b[0;32m----> 1\u001b[0m \u001b[43mtorch\u001b[49m\u001b[38;5;241m.\u001b[39mmanual_seed(\u001b[38;5;241m123\u001b[39m)\n\u001b[1;32m      3\u001b[0m input_text \u001b[38;5;241m=\u001b[39m format_input(val_data[\u001b[38;5;241m0\u001b[39m])\n\u001b[1;32m      4\u001b[0m \u001b[38;5;28mprint\u001b[39m(input_text)\n",
      "\u001b[0;31mNameError\u001b[0m: name 'torch' is not defined"
     ]
    }
   ],
   "source": [
    "torch.manual_seed(123)\n",
    "\n",
    "input_text = format_input(val_data[0])\n",
    "print(input_text)"
   ]
  },
  {
   "cell_type": "code",
   "execution_count": 26,
   "id": "bCnkNRmpZx3k",
   "metadata": {
    "id": "bCnkNRmpZx3k"
   },
   "outputs": [],
   "source": [
    "from generate import generate\n",
    "from load_weights import text_to_token_ids, token_ids_to_text\n",
    "\n",
    "token_ids = generate(\n",
    "    model=model,\n",
    "    idx=text_to_token_ids(input_text, tokenizer),\n",
    "    max_new_tokens=35,\n",
    "    context_size=BASE_CONFIG[\"context_length\"],\n",
    "    eos_id=50256,\n",
    ")\n",
    "generated_text = token_ids_to_text(token_ids, tokenizer)"
   ]
  },
  {
   "cell_type": "code",
   "execution_count": 27,
   "id": "DwwYIijiacYP",
   "metadata": {
    "colab": {
     "base_uri": "https://localhost:8080/"
    },
    "id": "DwwYIijiacYP",
    "outputId": "eab85fe8-e2ce-432b-a573-ace6f5e1d86d"
   },
   "outputs": [
    {
     "name": "stdout",
     "output_type": "stream",
     "text": [
      "The task is complete.\n",
      "\n",
      "The task is complete.\n",
      "\n",
      "The task is complete.\n",
      "\n",
      "The task is complete.\n",
      "\n",
      "The task is complete.\n"
     ]
    }
   ],
   "source": [
    "response_text = generated_text[len(input_text):].strip()\n",
    "print(response_text)\n",
    "#print(\"xx\", generated_text)"
   ]
  },
  {
   "cell_type": "code",
   "execution_count": 28,
   "id": "djr61R4panLW",
   "metadata": {
    "colab": {
     "base_uri": "https://localhost:8080/"
    },
    "id": "djr61R4panLW",
    "outputId": "8e35cde4-b979-4258-bc42-786dc451d6ca"
   },
   "outputs": [
    {
     "name": "stdout",
     "output_type": "stream",
     "text": [
      "Training loss: 4.473840427398682\n",
      "Validation loss: 4.388536643981934\n"
     ]
    }
   ],
   "source": [
    "from load_weights import calc_loss_loader\n",
    "from train import train_model_simple\n",
    "\n",
    "model.to(device)\n",
    "\n",
    "torch.manual_seed(123)\n",
    "\n",
    "with torch.no_grad():\n",
    "    train_loss = calc_loss_loader(train_loader, model, device, num_batches=5)\n",
    "    val_loss = calc_loss_loader(val_loader, model, device, num_batches=5)\n",
    "\n",
    "print(\"Training loss:\", train_loss)\n",
    "print(\"Validation loss:\", val_loss)"
   ]
  },
  {
   "cell_type": "code",
   "execution_count": 29,
   "id": "Q0sa9iWnfz2M",
   "metadata": {
    "colab": {
     "base_uri": "https://localhost:8080/"
    },
    "id": "Q0sa9iWnfz2M",
    "outputId": "2434a956-c8eb-4c43-833d-ebf9829905db"
   },
   "outputs": [
    {
     "name": "stdout",
     "output_type": "stream",
     "text": [
      "Ep 1 (Step 000000): Train loss 3.176, Val loss 3.140\n",
      "Ep 1 (Step 000005): Train loss 1.158, Val loss 1.084\n",
      "Ep 1 (Step 000010): Train loss 0.830, Val loss 0.917\n",
      "Ep 1 (Step 000015): Train loss 0.818, Val loss 0.878\n",
      "Ep 1 (Step 000020): Train loss 0.749, Val loss 0.841\n",
      "Ep 1 (Step 000025): Train loss 0.705, Val loss 0.815\n",
      "Ep 1 (Step 000030): Train loss 0.758, Val loss 0.794\n",
      "Ep 1 (Step 000035): Train loss 0.672, Val loss 0.766\n",
      "Ep 1 (Step 000040): Train loss 0.631, Val loss 0.756\n",
      "Ep 1 (Step 000045): Train loss 0.589, Val loss 0.746\n",
      "Ep 1 (Step 000050): Train loss 0.623, Val loss 0.738\n",
      "Ep 1 (Step 000055): Train loss 0.710, Val loss 0.718\n",
      "Ep 1 (Step 000060): Train loss 0.671, Val loss 0.701\n",
      "Ep 1 (Step 000065): Train loss 0.609, Val loss 0.698\n",
      "Ep 1 (Step 000070): Train loss 0.505, Val loss 0.690\n",
      "Ep 1 (Step 000075): Train loss 0.529, Val loss 0.696\n",
      "Ep 1 (Step 000080): Train loss 0.563, Val loss 0.679\n",
      "Ep 1 (Step 000085): Train loss 0.483, Val loss 0.681\n",
      "Ep 1 (Step 000090): Train loss 0.526, Val loss 0.652\n",
      "Ep 1 (Step 000095): Train loss 0.471, Val loss 0.646\n",
      "Ep 1 (Step 000100): Train loss 0.476, Val loss 0.641\n",
      "Ep 1 (Step 000105): Train loss 0.532, Val loss 0.633\n",
      "Ep 1 (Step 000110): Train loss 0.524, Val loss 0.626\n",
      "Ep 1 (Step 000115): Train loss 0.478, Val loss 0.622\n",
      "Below is an instruction that describes a task. Write a response that appropriately completes the request.  --------- Instruction ---------------------------------------- Convert the active sentence to passive: 'The chef cooks the meal every day.'  --------------------------------------------------------------  ### Response: The chef cooks the meal every day.<|endoftext|>The following is an instruction that describes a task. Write a response that appropriately completes the request.  --------- Instruction ---------------------------------------- Convert the active sentence to passive: '\n",
      "Ep 2 (Step 000120): Train loss 0.409, Val loss 0.627\n",
      "Ep 2 (Step 000125): Train loss 0.417, Val loss 0.641\n",
      "Ep 2 (Step 000130): Train loss 0.417, Val loss 0.645\n",
      "Ep 2 (Step 000135): Train loss 0.384, Val loss 0.642\n",
      "Ep 2 (Step 000140): Train loss 0.392, Val loss 0.644\n",
      "Ep 2 (Step 000145): Train loss 0.352, Val loss 0.643\n",
      "Ep 2 (Step 000150): Train loss 0.351, Val loss 0.628\n",
      "Ep 2 (Step 000155): Train loss 0.388, Val loss 0.628\n",
      "Ep 2 (Step 000160): Train loss 0.389, Val loss 0.636\n",
      "Ep 2 (Step 000165): Train loss 0.357, Val loss 0.639\n",
      "Ep 2 (Step 000170): Train loss 0.302, Val loss 0.647\n",
      "Ep 2 (Step 000175): Train loss 0.310, Val loss 0.638\n",
      "Ep 2 (Step 000180): Train loss 0.364, Val loss 0.620\n",
      "Ep 2 (Step 000185): Train loss 0.379, Val loss 0.617\n",
      "Ep 2 (Step 000190): Train loss 0.319, Val loss 0.611\n",
      "Ep 2 (Step 000195): Train loss 0.307, Val loss 0.596\n",
      "Ep 2 (Step 000200): Train loss 0.287, Val loss 0.596\n",
      "Ep 2 (Step 000205): Train loss 0.329, Val loss 0.591\n",
      "Ep 2 (Step 000210): Train loss 0.343, Val loss 0.594\n",
      "Ep 2 (Step 000215): Train loss 0.366, Val loss 0.597\n",
      "Ep 2 (Step 000220): Train loss 0.277, Val loss 0.609\n",
      "Ep 2 (Step 000225): Train loss 0.319, Val loss 0.618\n",
      "Ep 2 (Step 000230): Train loss 0.265, Val loss 0.620\n",
      "Below is an instruction that describes a task. Write a response that appropriately completes the request.  --------- Instruction ---------------------------------------- Convert the active sentence to passive: 'The chef cooks the meal every day.'  --------------------------------------------------------------  ### Response: The meal is cooked every day by the chef.<|endoftext|>The following is an instruction that describes a task. Write a response that appropriately completes the request.  --------- Instruction ---------------------------------------- What is the capital of the United\n",
      "Training completed in 3.27 minutes.\n"
     ]
    }
   ],
   "source": [
    "import time\n",
    "\n",
    "start_time = time.time()\n",
    "\n",
    "torch.manual_seed(123)\n",
    "\n",
    "optimizer = torch.optim.AdamW(model.parameters(), lr=0.00005, weight_decay=0.1)\n",
    "\n",
    "num_epochs = 2\n",
    "\n",
    "train_losses, val_losses, tokens_seen = train_model_simple(\n",
    "    model, train_loader, val_loader, optimizer, device,\n",
    "    num_epochs=num_epochs, eval_freq=5, eval_iter=5,\n",
    "    start_context=format_input(val_data[0]), tokenizer=tokenizer\n",
    ")\n",
    "\n",
    "end_time = time.time()\n",
    "execution_time_minutes = (end_time - start_time) / 60\n",
    "print(f\"Training completed in {execution_time_minutes:.2f} minutes.\")"
   ]
  },
  {
   "cell_type": "code",
   "execution_count": 30,
   "id": "K2OPE9X2hcoL",
   "metadata": {
    "colab": {
     "base_uri": "https://localhost:8080/",
     "height": 307
    },
    "id": "K2OPE9X2hcoL",
    "outputId": "d281cd03-32e2-449e-d12a-89bbc09279c6"
   },
   "outputs": [
    {
     "data": {
      "image/png": "[encoded data removed]",
      "text/plain": [
       "<Figure size 500x300 with 2 Axes>"
      ]
     },
     "metadata": {},
     "output_type": "display_data"
    }
   ],
   "source": [
    "from load_weights import plot_losses\n",
    "\n",
    "epochs_tensor = torch.linspace(0, num_epochs, len(train_losses))\n",
    "plot_losses(epochs_tensor, tokens_seen, train_losses, val_losses)"
   ]
  },
  {
   "cell_type": "code",
   "execution_count": 31,
   "id": "9tmeZlmvhiZ9",
   "metadata": {
    "colab": {
     "base_uri": "https://localhost:8080/"
    },
    "id": "9tmeZlmvhiZ9",
    "outputId": "26d66048-3c73-4fe8-df9d-2a4b327097b1"
   },
   "outputs": [
    {
     "name": "stdout",
     "output_type": "stream",
     "text": [
      "Below is an instruction that describes a task. Write a response that appropriately completes the request.\n",
      "\n",
      "--------- Instruction ----------------------------------------\n",
      "Rewrite the sentence using a simile. \n",
      "--------------------------------------------------------------\n",
      "\n",
      "Input: The car is very fast.\n",
      "\n",
      "Correct response:\n",
      ">> The car is as fast as lightning.\n",
      "\n",
      "Model response:\n",
      ">> The car is as fast as a cheetah.\n",
      "-------------------------------------\n",
      "Below is an instruction that describes a task. Write a response that appropriately completes the request.\n",
      "\n",
      "--------- Instruction ----------------------------------------\n",
      "What type of cloud is typically associated with thunderstorms? \n",
      "--------------------------------------------------------------\n",
      "\n",
      "Correct response:\n",
      ">> The type of cloud typically associated with thunderstorms is cumulonimbus.\n",
      "\n",
      "Model response:\n",
      ">> A thunderstorm is a type of cloud that typically forms when thunderstorms are active.\n",
      "-------------------------------------\n",
      "Below is an instruction that describes a task. Write a response that appropriately completes the request.\n",
      "\n",
      "--------- Instruction ----------------------------------------\n",
      "Name the author of 'Pride and Prejudice'. \n",
      "--------------------------------------------------------------\n",
      "\n",
      "Correct response:\n",
      ">> Jane Austen.\n",
      "\n",
      "Model response:\n",
      ">> The author of 'Pride and Prejudice' is Jane Austen.\n",
      "-------------------------------------\n",
      "Below is an instruction that describes a task. Write a response that appropriately completes the request.\n",
      "\n",
      "--------- Instruction ----------------------------------------\n",
      "What is the periodic symbol for chlorine? \n",
      "--------------------------------------------------------------\n",
      "\n",
      "Correct response:\n",
      ">> The periodic symbol for chlorine is Cl.\n",
      "\n",
      "Model response:\n",
      ">> The periodic symbol for chlorine is CH3.\n",
      "-------------------------------------\n",
      "Below is an instruction that describes a task. Write a response that appropriately completes the request.\n",
      "\n",
      "--------- Instruction ----------------------------------------\n",
      "Correct the punctuation in the sentence. \n",
      "--------------------------------------------------------------\n",
      "\n",
      "Input: Its time to go home.\n",
      "\n",
      "Correct response:\n",
      ">> The corrected sentence should be: 'It's time to go home.'\n",
      "\n",
      "Model response:\n",
      ">> The punctuation in the sentence 'Its time to go home' should be 'Time to go home'.\n",
      "-------------------------------------\n"
     ]
    }
   ],
   "source": [
    "torch.manual_seed(123)\n",
    "\n",
    "\n",
    "for entry in test_data[:5]:\n",
    "\n",
    "    input_text = format_input(entry)\n",
    "\n",
    "    token_ids = generate(\n",
    "        model=model,\n",
    "        idx=text_to_token_ids(input_text, tokenizer).to(device),\n",
    "        max_new_tokens=256,\n",
    "        context_size=BASE_CONFIG[\"context_length\"],\n",
    "        eos_id=50256\n",
    "    )\n",
    "    generated_text = token_ids_to_text(token_ids, tokenizer)\n",
    "    response_text = generated_text[len(input_text):].replace(\"### Response:\", \"\").strip()\n",
    "\n",
    "    print(input_text)\n",
    "    print(f\"\\nCorrect response:\\n>> {entry['output']}\")\n",
    "    print(f\"\\nModel response:\\n>> {response_text.strip()}\")\n",
    "    print(\"-------------------------------------\")"
   ]
  },
  {
   "cell_type": "code",
   "execution_count": 31,
   "id": "VsjkuwKxmvUt",
   "metadata": {
    "id": "VsjkuwKxmvUt"
   },
   "outputs": [],
   "source": []
  },
  {
   "cell_type": "markdown",
   "id": "999Rpn1cmv8P",
   "metadata": {
    "id": "999Rpn1cmv8P"
   },
   "source": [
    "From here need to process"
   ]
  },
  {
   "cell_type": "code",
   "execution_count": 32,
   "id": "lojM_qI0hjq2",
   "metadata": {
    "colab": {
     "base_uri": "https://localhost:8080/"
    },
    "id": "lojM_qI0hjq2",
    "outputId": "3f91bc5b-ff90-4ff5-f570-a894ec8a65cd"
   },
   "outputs": [
    {
     "name": "stderr",
     "output_type": "stream",
     "text": [
      "100%|██████████| 110/110 [01:10<00:00,  1.57it/s]\n"
     ]
    }
   ],
   "source": [
    "from tqdm import tqdm\n",
    "\n",
    "for i, entry in tqdm(enumerate(test_data), total=len(test_data)):\n",
    "\n",
    "    input_text = format_input(entry)\n",
    "\n",
    "    token_ids = generate(\n",
    "        model=model,\n",
    "        idx=text_to_token_ids(input_text, tokenizer).to(device),\n",
    "        max_new_tokens=256,\n",
    "        context_size=BASE_CONFIG[\"context_length\"],\n",
    "        eos_id=50256\n",
    "    )\n",
    "    generated_text = token_ids_to_text(token_ids, tokenizer)\n",
    "    response_text = generated_text[len(input_text):].replace(\"### Response:\", \"\").strip()\n",
    "\n",
    "    test_data[i][\"model_response\"] = response_text\n",
    "\n",
    "\n",
    "with open(\"instruction-data-with-response.json\", \"w\") as file:\n",
    "    json.dump(test_data, file, indent=4)  # \"indent\" for pretty-printing"
   ]
  },
  {
   "cell_type": "code",
   "execution_count": 33,
   "id": "JCvktx19m1YL",
   "metadata": {
    "colab": {
     "base_uri": "https://localhost:8080/"
    },
    "id": "JCvktx19m1YL",
    "outputId": "0752847c-af69-4fa9-d501-0778756c0998"
   },
   "outputs": [
    {
     "name": "stdout",
     "output_type": "stream",
     "text": [
      "{'instruction': 'Rewrite the sentence using a simile.', 'input': 'The car is very fast.', 'output': 'The car is as fast as lightning.', 'model_response': 'The car is as fast as a cheetah.'}\n"
     ]
    }
   ],
   "source": [
    "print(test_data[0])"
   ]
  },
  {
   "cell_type": "code",
   "execution_count": 34,
   "id": "zN0ykwjxm1-K",
   "metadata": {
    "colab": {
     "base_uri": "https://localhost:8080/"
    },
    "id": "zN0ykwjxm1-K",
    "outputId": "974dd304-3b94-49b5-e9b7-3359db647449"
   },
   "outputs": [
    {
     "name": "stdout",
     "output_type": "stream",
     "text": [
      "Model saved as gpt2-medium355M-sft.pth\n"
     ]
    }
   ],
   "source": [
    "import re\n",
    "\n",
    "\n",
    "file_name = f\"{re.sub(r'[ ()]', '', CHOOSE_MODEL) }-sft.pth\"\n",
    "torch.save(model.state_dict(), file_name)\n",
    "print(f\"Model saved as {file_name}\")\n",
    "\n",
    "# Load model via\n",
    "# model.load_state_dict(torch.load(\"gpt2-medium355M-sft.pth\"))"
   ]
  },
  {
   "cell_type": "markdown",
   "id": "zPBv_YPcGoZt",
   "metadata": {
    "id": "zPBv_YPcGoZt"
   },
   "source": [
    "Evaluating the model"
   ]
  },
  {
   "cell_type": "code",
   "execution_count": 35,
   "id": "QiEYwH9LGflt",
   "metadata": {
    "colab": {
     "base_uri": "https://localhost:8080/",
     "height": 190
    },
    "id": "QiEYwH9LGflt",
    "outputId": "24ec78d7-a8ac-4cac-84cf-883cf1b8dcd7"
   },
   "outputs": [
    {
     "ename": "RuntimeError",
     "evalue": "Ollama not running. Launch ollama before proceeding.",
     "output_type": "error",
     "traceback": [
      "\u001b[0;31m---------------------------------------------------------------------------\u001b[0m",
      "\u001b[0;31mRuntimeError\u001b[0m                              Traceback (most recent call last)",
      "\u001b[0;32m<ipython-input-35-aec0ff51705f>\u001b[0m in \u001b[0;36m<cell line: 13>\u001b[0;34m()\u001b[0m\n\u001b[1;32m     12\u001b[0m \u001b[0;34m\u001b[0m\u001b[0m\n\u001b[1;32m     13\u001b[0m \u001b[0;32mif\u001b[0m \u001b[0;32mnot\u001b[0m \u001b[0mollama_running\u001b[0m\u001b[0;34m:\u001b[0m\u001b[0;34m\u001b[0m\u001b[0;34m\u001b[0m\u001b[0m\n\u001b[0;32m---> 14\u001b[0;31m     \u001b[0;32mraise\u001b[0m \u001b[0mRuntimeError\u001b[0m\u001b[0;34m(\u001b[0m\u001b[0;34m\"Ollama not running. Launch ollama before proceeding.\"\u001b[0m\u001b[0;34m)\u001b[0m\u001b[0;34m\u001b[0m\u001b[0;34m\u001b[0m\u001b[0m\n\u001b[0m\u001b[1;32m     15\u001b[0m \u001b[0mprint\u001b[0m\u001b[0;34m(\u001b[0m\u001b[0;34m\"Ollama running:\"\u001b[0m\u001b[0;34m,\u001b[0m \u001b[0mcheck_if_running\u001b[0m\u001b[0;34m(\u001b[0m\u001b[0;34m\"ollama\"\u001b[0m\u001b[0;34m)\u001b[0m\u001b[0;34m)\u001b[0m\u001b[0;34m\u001b[0m\u001b[0;34m\u001b[0m\u001b[0m\n",
      "\u001b[0;31mRuntimeError\u001b[0m: Ollama not running. Launch ollama before proceeding."
     ]
    }
   ],
   "source": [
    "import psutil\n",
    "\n",
    "def check_if_running(process_name):\n",
    "    running = False\n",
    "    for proc in psutil.process_iter([\"name\"]):\n",
    "        if process_name in proc.info[\"name\"]:\n",
    "            running = True\n",
    "            break\n",
    "    return running\n",
    "\n",
    "ollama_running = check_if_running(\"ollama\")\n",
    "\n",
    "if not ollama_running:\n",
    "    raise RuntimeError(\"Ollama not running. Launch ollama before proceeding.\")\n",
    "print(\"Ollama running:\", check_if_running(\"ollama\"))"
   ]
  },
  {
   "cell_type": "code",
   "execution_count": null,
   "id": "9FsCr1OPHysG",
   "metadata": {
    "id": "9FsCr1OPHysG"
   },
   "outputs": [],
   "source": []
  }
 ],
 "metadata": {
  "accelerator": "GPU",
  "colab": {
   "gpuType": "T4",
   "provenance": []
  },
  "kernelspec": {
   "display_name": "Python 3 (ipykernel)",
   "language": "python",
   "name": "python3"
  },
  "language_info": {
   "codemirror_mode": {
    "name": "ipython",
    "version": 3
   },
   "file_extension": ".py",
   "mimetype": "text/x-python",
   "name": "python",
   "nbconvert_exporter": "python",
   "pygments_lexer": "ipython3",
   "version": "3.9.12"
  }
 },
 "nbformat": 4,
 "nbformat_minor": 5
}
